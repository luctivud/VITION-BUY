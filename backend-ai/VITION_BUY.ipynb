{
  "cells": [
    {
      "cell_type": "markdown",
      "metadata": {
        "id": "view-in-github",
        "colab_type": "text"
      },
      "source": [
        "<a href=\"https://colab.research.google.com/github/luctivud/VITION-BUY/blob/main/backend-ai/VITION_BUY.ipynb\" target=\"_parent\"><img src=\"https://colab.research.google.com/assets/colab-badge.svg\" alt=\"Open In Colab\"/></a>"
      ]
    },
    {
      "cell_type": "code",
      "execution_count": null,
      "metadata": {
        "colab": {
          "base_uri": "https://localhost:8080/"
        },
        "id": "ACP8ud3NtFeQ",
        "outputId": "26f8b128-a445-4d9f-a333-dd19c1024195"
      },
      "outputs": [
        {
          "output_type": "stream",
          "name": "stdout",
          "text": [
            "Cloning into 'VITION-BUY'...\n",
            "remote: Enumerating objects: 140, done.\u001b[K\n",
            "remote: Counting objects: 100% (140/140), done.\u001b[K\n",
            "remote: Compressing objects: 100% (122/122), done.\u001b[K\n",
            "remote: Total 140 (delta 25), reused 121 (delta 14), pack-reused 0\u001b[K\n",
            "Receiving objects: 100% (140/140), 12.82 MiB | 29.03 MiB/s, done.\n",
            "Resolving deltas: 100% (25/25), done.\n",
            "/content/VITION-BUY/backend-ai\n"
          ]
        }
      ],
      "source": [
        "!git clone https://github.com/luctivud/VITION-BUY.git\n",
        "%cd ./VITION-BUY/backend-ai"
      ]
    },
    {
      "cell_type": "code",
      "execution_count": null,
      "metadata": {
        "colab": {
          "base_uri": "https://localhost:8080/"
        },
        "id": "t2MtKpXfurzD",
        "outputId": "8288445e-4c7f-4b9e-f838-e208d720f451"
      },
      "outputs": [
        {
          "output_type": "stream",
          "name": "stdout",
          "text": [
            "Looking in links: https://download.pytorch.org/whl/torch_stable.html\n",
            "Requirement already satisfied: torch in /usr/local/lib/python3.7/dist-packages (1.11.0+cu113)\n",
            "Requirement already satisfied: torchvision in /usr/local/lib/python3.7/dist-packages (0.12.0+cu113)\n",
            "Requirement already satisfied: typing-extensions in /usr/local/lib/python3.7/dist-packages (from torch) (4.2.0)\n",
            "Requirement already satisfied: pillow!=8.3.*,>=5.3.0 in /usr/local/lib/python3.7/dist-packages (from torchvision) (7.1.2)\n",
            "Requirement already satisfied: numpy in /usr/local/lib/python3.7/dist-packages (from torchvision) (1.21.6)\n",
            "Requirement already satisfied: requests in /usr/local/lib/python3.7/dist-packages (from torchvision) (2.23.0)\n",
            "Requirement already satisfied: idna<3,>=2.5 in /usr/local/lib/python3.7/dist-packages (from requests->torchvision) (2.10)\n",
            "Requirement already satisfied: chardet<4,>=3.0.2 in /usr/local/lib/python3.7/dist-packages (from requests->torchvision) (3.0.4)\n",
            "Requirement already satisfied: urllib3!=1.25.0,!=1.25.1,<1.26,>=1.21.1 in /usr/local/lib/python3.7/dist-packages (from requests->torchvision) (1.24.3)\n",
            "Requirement already satisfied: certifi>=2017.4.17 in /usr/local/lib/python3.7/dist-packages (from requests->torchvision) (2021.10.8)\n"
          ]
        }
      ],
      "source": [
        "!pip install torch torchvision -f https://download.pytorch.org/whl/torch_stable.html"
      ]
    },
    {
      "cell_type": "code",
      "execution_count": null,
      "metadata": {
        "colab": {
          "base_uri": "https://localhost:8080/"
        },
        "id": "4euWu78fu4X1",
        "outputId": "dbbb27f3-d31a-4135-9961-49e67b5596c5"
      },
      "outputs": [
        {
          "output_type": "stream",
          "name": "stdout",
          "text": [
            "Requirement already satisfied: opencv-python in /usr/local/lib/python3.7/dist-packages (4.1.2.30)\n",
            "Collecting torchgeometry\n",
            "  Downloading torchgeometry-0.1.2-py2.py3-none-any.whl (42 kB)\n",
            "\u001b[?25l\r\u001b[K     |███████▋                        | 10 kB 20.6 MB/s eta 0:00:01\r\u001b[K     |███████████████▎                | 20 kB 17.2 MB/s eta 0:00:01\r\u001b[K     |███████████████████████         | 30 kB 11.6 MB/s eta 0:00:01\r\u001b[K     |██████████████████████████████▋ | 40 kB 9.8 MB/s eta 0:00:01\r\u001b[K     |████████████████████████████████| 42 kB 767 kB/s \n",
            "\u001b[?25hRequirement already satisfied: numpy>=1.14.5 in /usr/local/lib/python3.7/dist-packages (from opencv-python) (1.21.6)\n",
            "Requirement already satisfied: torch>=1.0.0 in /usr/local/lib/python3.7/dist-packages (from torchgeometry) (1.11.0+cu113)\n",
            "Requirement already satisfied: typing-extensions in /usr/local/lib/python3.7/dist-packages (from torch>=1.0.0->torchgeometry) (4.2.0)\n",
            "Installing collected packages: torchgeometry\n",
            "Successfully installed torchgeometry-0.1.2\n"
          ]
        }
      ],
      "source": [
        "!pip install opencv-python torchgeometry"
      ]
    },
    {
      "cell_type": "code",
      "execution_count": null,
      "metadata": {
        "colab": {
          "base_uri": "https://localhost:8080/"
        },
        "id": "Q8KHm0Qdu89U",
        "outputId": "b78fae2d-110d-43fc-ce4f-2370caceb2e0"
      },
      "outputs": [
        {
          "output_type": "stream",
          "name": "stdout",
          "text": [
            "Sat Apr 30 07:49:04 2022       \n",
            "+-----------------------------------------------------------------------------+\n",
            "| NVIDIA-SMI 460.32.03    Driver Version: 460.32.03    CUDA Version: 11.2     |\n",
            "|-------------------------------+----------------------+----------------------+\n",
            "| GPU  Name        Persistence-M| Bus-Id        Disp.A | Volatile Uncorr. ECC |\n",
            "| Fan  Temp  Perf  Pwr:Usage/Cap|         Memory-Usage | GPU-Util  Compute M. |\n",
            "|                               |                      |               MIG M. |\n",
            "|===============================+======================+======================|\n",
            "|   0  Tesla K80           Off  | 00000000:00:04.0 Off |                    0 |\n",
            "| N/A   33C    P8    27W / 149W |      0MiB / 11441MiB |      0%      Default |\n",
            "|                               |                      |                  N/A |\n",
            "+-------------------------------+----------------------+----------------------+\n",
            "                                                                               \n",
            "+-----------------------------------------------------------------------------+\n",
            "| Processes:                                                                  |\n",
            "|  GPU   GI   CI        PID   Type   Process name                  GPU Memory |\n",
            "|        ID   ID                                                   Usage      |\n",
            "|=============================================================================|\n",
            "|  No running processes found                                                 |\n",
            "+-----------------------------------------------------------------------------+\n"
          ]
        }
      ],
      "source": [
        "import torch \n",
        "!nvidia-smi"
      ]
    },
    {
      "cell_type": "code",
      "execution_count": null,
      "metadata": {
        "colab": {
          "base_uri": "https://localhost:8080/"
        },
        "id": "Q0_yeuGavBRR",
        "outputId": "bffed840-d3a4-4b81-d7ee-0371d00d7e81"
      },
      "outputs": [
        {
          "output_type": "execute_result",
          "data": {
            "text/plain": [
              "True"
            ]
          },
          "metadata": {},
          "execution_count": 5
        }
      ],
      "source": [
        "torch.cuda.is_available()"
      ]
    },
    {
      "cell_type": "code",
      "execution_count": null,
      "metadata": {
        "colab": {
          "base_uri": "https://localhost:8080/"
        },
        "id": "x1ChdjrpvD68",
        "outputId": "6fd5fb02-66b2-43a7-8bb1-d188c9235dbb"
      },
      "outputs": [
        {
          "output_type": "stream",
          "name": "stderr",
          "text": [
            "Downloading...\n",
            "From: https://drive.google.com/u/0/uc?export=download&confirm=PAd9&id=1s0r8e4tvQMcp8AD0k7JOHetCEuRuY0Zk\n",
            "To: /content/VITION-BUY/backend-ai/checkpoints-20211102T134153Z-001.zip\n",
            "100%|██████████| 572M/572M [00:04<00:00, 135MB/s]"
          ]
        },
        {
          "output_type": "stream",
          "name": "stdout",
          "text": [
            "/content/VITION-BUY/backend-ai/checkpoints\n"
          ]
        },
        {
          "output_type": "stream",
          "name": "stderr",
          "text": [
            "\n"
          ]
        }
      ],
      "source": [
        "import gdown\n",
        "gdown.download('https://drive.google.com/u/0/uc?export=download&confirm=PAd9&id=1s0r8e4tvQMcp8AD0k7JOHetCEuRuY0Zk', 'checkpoints-20211102T134153Z-001.zip', quiet=False)\n",
        "%cd /content/VITION-BUY/backend-ai/checkpoints"
      ]
    },
    {
      "cell_type": "code",
      "execution_count": null,
      "metadata": {
        "colab": {
          "base_uri": "https://localhost:8080/"
        },
        "id": "qcv9Z80IvHP7",
        "outputId": "da73346f-e50f-48b3-ef49-1ee132181fa7"
      },
      "outputs": [
        {
          "output_type": "stream",
          "name": "stdout",
          "text": [
            "/content/VITION-BUY/backend-ai\n"
          ]
        }
      ],
      "source": [
        "import zipfile\n",
        "path_to_zip_file='/content/VITION-BUY/backend-ai/checkpoints-20211102T134153Z-001.zip'\n",
        "directory_to_extract_to='content/VITION-BUY/backend/checkpoints'\n",
        "with zipfile.ZipFile(path_to_zip_file, 'r') as zip_ref:\n",
        "    zip_ref.extractall(directory_to_extract_to)\n",
        "\n",
        "%cd .."
      ]
    },
    {
      "cell_type": "code",
      "execution_count": null,
      "metadata": {
        "id": "Dne91puTvm-N"
      },
      "outputs": [],
      "source": [
        "%mv /content/VITION-BUY/backend-ai/checkpoints/content/VITION-BUY/backend/checkpoints/checkpoints/*.pth /content/VITION-BUY/backend-ai/checkpoints"
      ]
    },
    {
      "cell_type": "code",
      "execution_count": null,
      "metadata": {
        "colab": {
          "base_uri": "https://localhost:8080/"
        },
        "id": "b2cAWRRKvz_I",
        "outputId": "df203597-e31f-40df-f76b-5aba02380c34"
      },
      "outputs": [
        {
          "output_type": "stream",
          "name": "stdout",
          "text": [
            "--2022-04-30 07:49:18--  https://github.com/luctivud/VITION-BUY/blob/main/datasets-20211102T134151Z-001.zip?raw=true\n",
            "Resolving github.com (github.com)... 140.82.112.3\n",
            "Connecting to github.com (github.com)|140.82.112.3|:443... connected.\n",
            "HTTP request sent, awaiting response... 302 Found\n",
            "Location: https://github.com/luctivud/VITION-BUY/raw/main/datasets-20211102T134151Z-001.zip [following]\n",
            "--2022-04-30 07:49:18--  https://github.com/luctivud/VITION-BUY/raw/main/datasets-20211102T134151Z-001.zip\n",
            "Reusing existing connection to github.com:443.\n",
            "HTTP request sent, awaiting response... 302 Found\n",
            "Location: https://raw.githubusercontent.com/luctivud/VITION-BUY/main/datasets-20211102T134151Z-001.zip [following]\n",
            "--2022-04-30 07:49:18--  https://raw.githubusercontent.com/luctivud/VITION-BUY/main/datasets-20211102T134151Z-001.zip\n",
            "Resolving raw.githubusercontent.com (raw.githubusercontent.com)... 185.199.108.133, 185.199.110.133, 185.199.111.133, ...\n",
            "Connecting to raw.githubusercontent.com (raw.githubusercontent.com)|185.199.108.133|:443... connected.\n",
            "HTTP request sent, awaiting response... 200 OK\n",
            "Length: 4690395 (4.5M) [application/zip]\n",
            "Saving to: ‘datasets-20211102T134151Z-001.zip’\n",
            "\n",
            "datasets-20211102T1 100%[===================>]   4.47M  --.-KB/s    in 0.07s   \n",
            "\n",
            "2022-04-30 07:49:19 (61.9 MB/s) - ‘datasets-20211102T134151Z-001.zip’ saved [4690395/4690395]\n",
            "\n"
          ]
        }
      ],
      "source": [
        "!wget  https://github.com/luctivud/VITION-BUY/blob/main/datasets-20211102T134151Z-001.zip?raw=true -O datasets-20211102T134151Z-001.zip"
      ]
    },
    {
      "cell_type": "code",
      "execution_count": null,
      "metadata": {
        "colab": {
          "base_uri": "https://localhost:8080/"
        },
        "id": "t736-x9vwsKI",
        "outputId": "3a9ce016-0403-4699-aea2-1d6704d10884"
      },
      "outputs": [
        {
          "output_type": "stream",
          "name": "stdout",
          "text": [
            "Archive:  /content/VITION-BUY/backend-ai/datasets-20211102T134151Z-001.zip\n",
            "   creating: datasets-20211102T134151Z-001/\n",
            "   creating: datasets-20211102T134151Z-001/datasets/\n",
            "  inflating: datasets-20211102T134151Z-001/datasets/test.zip  \n",
            "  inflating: datasets-20211102T134151Z-001/datasets/test_pairs.txt  \n"
          ]
        }
      ],
      "source": [
        "!unzip /content/VITION-BUY/backend-ai/datasets-20211102T134151Z-001.zip"
      ]
    },
    {
      "cell_type": "code",
      "execution_count": null,
      "metadata": {
        "colab": {
          "base_uri": "https://localhost:8080/"
        },
        "id": "GsSfvhUNw1Ka",
        "outputId": "7d0d895c-5c6f-498b-ca1a-143039c78bc1"
      },
      "outputs": [
        {
          "output_type": "stream",
          "name": "stdout",
          "text": [
            "Archive:  /content/VITION-BUY/backend-ai/datasets-20211102T134151Z-001/datasets/test.zip\n",
            "   creating: test/\n",
            "   creating: test/cloth/\n",
            "  inflating: test/cloth/02783_00.jpg  \n",
            "  inflating: test/cloth/07429_00.jpg  \n",
            "  inflating: test/cloth/11028_00.jpg  \n",
            "  inflating: test/cloth/11351_00.jpg  \n",
            "  inflating: test/cloth/01430_00.jpg  \n",
            "  inflating: test/cloth/03751_00.jpg  \n",
            "  inflating: test/cloth/06802_00.jpg  \n",
            "  inflating: test/cloth/08348_00.jpg  \n",
            "  inflating: test/cloth/09933_00.jpg  \n",
            "  inflating: test/cloth/06429_00.jpg  \n",
            "  inflating: test/cloth/11791_00.jpg  \n",
            "  inflating: test/cloth/01260_00.jpg  \n",
            "   creating: test/cloth-mask/\n",
            "  inflating: test/cloth-mask/02783_00.jpg  \n",
            "  inflating: test/cloth-mask/07429_00.jpg  \n",
            "  inflating: test/cloth-mask/11028_00.jpg  \n",
            "  inflating: test/cloth-mask/11351_00.jpg  \n",
            "  inflating: test/cloth-mask/01430_00.jpg  \n",
            "  inflating: test/cloth-mask/03751_00.jpg  \n",
            "  inflating: test/cloth-mask/06802_00.jpg  \n",
            "  inflating: test/cloth-mask/08348_00.jpg  \n",
            "  inflating: test/cloth-mask/09933_00.jpg  \n",
            "  inflating: test/cloth-mask/06429_00.jpg  \n",
            "  inflating: test/cloth-mask/11791_00.jpg  \n",
            "  inflating: test/cloth-mask/01260_00.jpg  \n",
            "   creating: test/image/\n",
            "  inflating: test/image/08909_00.jpg  \n",
            "  inflating: test/image/00891_00.jpg  \n",
            "  inflating: test/image/03615_00.jpg  \n",
            "  inflating: test/image/07445_00.jpg  \n",
            "  inflating: test/image/07573_00.jpg  \n",
            "  inflating: test/image/10549_00.jpg  \n",
            "  inflating: test/image/0u001.jpg    \n",
            "  inflating: test/image/muskan001.jpg  \n",
            "   creating: test/image-parse/\n",
            "  inflating: test/image-parse/08909_00.png  \n",
            "  inflating: test/image-parse/00891_00.png  \n",
            "  inflating: test/image-parse/03615_00.png  \n",
            "  inflating: test/image-parse/07445_00.png  \n",
            "  inflating: test/image-parse/07573_00.png  \n",
            "  inflating: test/image-parse/10549_00.png  \n",
            "  inflating: test/image-parse/0u001.png  \n",
            "  inflating: test/image-parse/muskan001.png  \n",
            "   creating: test/openpose-img/\n",
            "  inflating: test/openpose-img/muskan001_rendered.png  \n",
            "  inflating: test/openpose-img/08909_00_rendered.png  \n",
            "  inflating: test/openpose-img/00891_00_rendered.png  \n",
            "  inflating: test/openpose-img/03615_00_rendered.png  \n",
            "  inflating: test/openpose-img/07445_00_rendered.png  \n",
            "  inflating: test/openpose-img/07573_00_rendered.png  \n",
            "  inflating: test/openpose-img/10549_00_rendered.png  \n",
            "  inflating: test/openpose-img/0u001_rendered.png  \n",
            "   creating: test/openpose-json/\n",
            "  inflating: test/openpose-json/muskan001_keypoints.json  \n",
            "  inflating: test/openpose-json/08909_00_keypoints.json  \n",
            "  inflating: test/openpose-json/00891_00_keypoints.json  \n",
            "  inflating: test/openpose-json/03615_00_keypoints.json  \n",
            "  inflating: test/openpose-json/07445_00_keypoints.json  \n",
            "  inflating: test/openpose-json/07573_00_keypoints.json  \n",
            "  inflating: test/openpose-json/10549_00_keypoints.json  \n",
            "  inflating: test/openpose-json/0u001_keypoints.json  \n"
          ]
        }
      ],
      "source": [
        "\n",
        "!unzip /content/VITION-BUY/backend-ai/datasets-20211102T134151Z-001/datasets/test.zip"
      ]
    },
    {
      "cell_type": "code",
      "execution_count": null,
      "metadata": {
        "id": "ecY4-Kc0xAl1"
      },
      "outputs": [],
      "source": [
        "%mv /content/VITION-BUY/backend-ai/test /content/VITION-BUY/backend-ai/datasets"
      ]
    },
    {
      "cell_type": "code",
      "source": [
        "%mv /content/VITION-BUY/backend-ai/datasets-20211102T134151Z-001/datasets/test_pairs.txt /content/VITION-BUY/backend-ai/datasets/"
      ],
      "metadata": {
        "id": "s9hqOAH1RCT5",
        "colab": {
          "base_uri": "https://localhost:8080/"
        },
        "outputId": "646f7627-cc64-432c-d478-3944fb7487c4"
      },
      "execution_count": null,
      "outputs": [
        {
          "output_type": "stream",
          "name": "stdout",
          "text": [
            "mv: cannot stat '/content/VITION-BUY/backend-ai/datasets-20211102T134151Z-001/datasets/test_pairs.txt': No such file or directory\n"
          ]
        }
      ]
    },
    {
      "cell_type": "code",
      "execution_count": null,
      "metadata": {
        "colab": {
          "base_uri": "https://localhost:8080/"
        },
        "id": "sxlzRLo_xKzg",
        "outputId": "a7b6c4fa-9316-4443-fbc0-5e62ec2b2fd4"
      },
      "outputs": [
        {
          "output_type": "stream",
          "name": "stdout",
          "text": [
            "Namespace(alias_checkpoint='alias_final.pth', batch_size=1, checkpoint_dir='./checkpoints/', dataset_dir='./datasets/', dataset_list='test_pairs.txt', dataset_mode='test', display_freq=1, gmm_checkpoint='gmm_final.pth', grid_size=5, init_type='xavier', init_variance=0.02, load_height=1024, load_width=768, name='sem8p2', ngf=64, norm_G='spectralaliasinstance', num_upsampling_layers='most', save_dir='./results/', seg_checkpoint='seg_final.pth', semantic_nc=13, shuffle=False, workers=1)\n",
            "Network [SegGenerator] was created. Total number of parameters: 34.5 million. To see the architecture, do print(network).\n",
            "Network [ALIASGenerator] was created. Total number of parameters: 100.5 million. To see the architecture, do print(network).\n",
            "/usr/local/lib/python3.7/dist-packages/torchvision/transforms/transforms.py:333: UserWarning: Argument interpolation should be of type InterpolationMode instead of int. Please, use InterpolationMode enum.\n",
            "  \"Argument interpolation should be of type InterpolationMode instead of int. \"\n",
            "/usr/local/lib/python3.7/dist-packages/torchvision/transforms/transforms.py:333: UserWarning: Argument interpolation should be of type InterpolationMode instead of int. Please, use InterpolationMode enum.\n",
            "  \"Argument interpolation should be of type InterpolationMode instead of int. \"\n",
            "/usr/local/lib/python3.7/dist-packages/torch/nn/functional.py:4194: UserWarning: Default grid_sample and affine_grid behavior has changed to align_corners=False since 1.3.0. Please specify align_corners=True if the old behavior is desired. See the documentation of grid_sample for details.\n",
            "  \"Default grid_sample and affine_grid behavior has changed \"\n",
            "step: 1\n",
            "step: 2\n",
            "step: 3\n",
            "step: 4\n",
            "step: 5\n",
            "step: 6\n",
            "step: 7\n",
            "step: 8\n",
            "step: 9\n",
            "step: 10\n",
            "step: 11\n",
            "step: 12\n"
          ]
        }
      ],
      "source": [
        "#%env CUDA_VISIBLE_DEVICES=[GPU_ID] \n",
        "!python /content/VITION-BUY/backend-ai/test.py --name sem8p2"
      ]
    },
    {
      "cell_type": "code",
      "execution_count": null,
      "metadata": {
        "id": "XuE5XDG2xNe0"
      },
      "outputs": [],
      "source": [
        "%ls '/content/VITION-BUY/backend-ai/results/sem8p2/'"
      ]
    },
    {
      "cell_type": "code",
      "execution_count": null,
      "metadata": {
        "id": "iZYpXqPjx1Vw"
      },
      "outputs": [],
      "source": [
        ""
      ]
    }
  ],
  "metadata": {
    "accelerator": "GPU",
    "colab": {
      "collapsed_sections": [],
      "name": "VITION-BUY.ipynb",
      "provenance": [],
      "authorship_tag": "ABX9TyPvKNyDZm41ZtFMkNWmZOjR",
      "include_colab_link": true
    },
    "kernelspec": {
      "display_name": "Python 3",
      "name": "python3"
    },
    "language_info": {
      "name": "python"
    }
  },
  "nbformat": 4,
  "nbformat_minor": 0
}